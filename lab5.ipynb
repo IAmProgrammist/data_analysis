{
  "cells": [
    {
      "cell_type": "markdown",
      "metadata": {
        "id": "P6-paTQWsKQf"
      },
      "source": [
        "Лабораторная работа 5\n",
        "\n",
        "Тема: Классификация с помощью нейронных сетей"
      ]
    },
    {
      "cell_type": "markdown",
      "metadata": {
        "id": "OLUzXvrjPgy6"
      },
      "source": [
        "Вариант 6 (датасет flight_delays)"
      ]
    },
    {
      "cell_type": "markdown",
      "source": [
        "Построить двухслойную нейронную сеть для классификации на два класса. Разбивку на классы сделать  по столбцу \"правильных ответов\". Если этот столбец непонятно как определить (можно спросить о нем у преподавателя), то использовать  разбиение на 2 кластера в задании 2 или 3. Классификацию проводить по всем признакам, а для визуализации использовать два наиболее значимых или главные компоненты из 3. (Вариант архитектуры сети - оба слоя полносвязных, первый слой с функцией активации Релу, а второй слой софтмакс или сигмоидная функция активации. Качество можно отслеживать с помощью точности, эпох должно быть не меньше 10; по поводу использования библиотек: предпочтительно написать не используя специальных библиотек для разработки нейронных сетей; если использовать всё-таки библиотеки, то лучше использовать тензорфло и керас в колабе; другие варианты - например, пайторч, тоже допустимы, но тогда обязательно оформление отчета).\n"
      ],
      "metadata": {
        "id": "i75fndRYhslw"
      }
    },
    {
      "cell_type": "markdown",
      "source": [
        "Подключим необходимые библиотеки"
      ],
      "metadata": {
        "id": "QuZ29LgA09_b"
      }
    },
    {
      "cell_type": "code",
      "source": [
        "#Подключаем библиотеки\n",
        "import tensorflow as tf\n",
        "from tensorflow import keras\n",
        "import numpy as np\n",
        "import matplotlib.pyplot as plt\n",
        "import pandas as pd\n",
        "import numpy as np\n",
        "import datetime\n",
        "import scipy\n",
        "import matplotlib.pyplot as plt\n",
        "import matplotlib.cm as cm\n",
        "import random\n",
        "from sklearn.preprocessing import StandardScaler\n",
        "from sklearn.manifold import TSNE"
      ],
      "metadata": {
        "id": "S55zvWIcjuHC"
      },
      "execution_count": 47,
      "outputs": []
    },
    {
      "cell_type": "markdown",
      "source": [
        "Подготовим данные, нормализуем их и категории преобразуем в число"
      ],
      "metadata": {
        "id": "PDodxlrn1BfZ"
      }
    },
    {
      "cell_type": "code",
      "source": [
        "df = pd.read_csv('flight_delays.csv', sep=',')\n",
        "cats = [\"Month\",\"DayofMonth\",\"DayOfWeek\", \"UniqueCarrier\",\"Origin\",\"Dest\",\"dep_delayed_15min\"]\n",
        "\n",
        "train = df[::2].copy()\n",
        "check = df[1::2].copy()\n",
        "\n",
        "for cat in cats:\n",
        "  train[f'{cat}_cat'] = pd.factorize(train[cat], sort=True)[0]\n",
        "  check[f'{cat}_cat'] = pd.factorize(check[cat], sort=True)[0]\n",
        "\n",
        "# Выбираем категориальные и числовые данные\n",
        "numer = train[[\"DepTime\",\"Distance\"]]\n",
        "cater = train[[f\"{cat}_cat\" for cat in cats]]\n",
        "numer_check = check[[\"DepTime\",\"Distance\"]]\n",
        "cater_check = check[[f\"{cat}_cat\" for cat in cats]]\n",
        "\n",
        "# Подготавливаем числовые данные\n",
        "numer = pd.DataFrame(StandardScaler().fit_transform(numer))\n",
        "numer.columns = [\"DepTime_Scaled\", \"Distance_Scaled\"]\n",
        "numer_check = pd.DataFrame(StandardScaler().fit_transform(numer_check))\n",
        "numer_check.columns = [\"DepTime_Scaled\", \"Distance_Scaled\"]\n",
        "\n",
        "# Сливаем подготовленные данные в новый датасет\n",
        "Df = pd.concat([numer, cater], axis=1, join='inner')\n",
        "Df_check = pd.concat([numer_check, cater_check], axis=1, join='inner')"
      ],
      "metadata": {
        "id": "LgID0oa90rRm"
      },
      "execution_count": 48,
      "outputs": []
    },
    {
      "cell_type": "markdown",
      "source": [
        "Получим t-SNE преобразование"
      ],
      "metadata": {
        "id": "nvnYFOMD1LgE"
      }
    },
    {
      "cell_type": "code",
      "source": [
        "tsne = TSNE(n_components=2, verbose=0, perplexity=40, n_iter=300)\n",
        "tsne_results = tsne.fit_transform(Df_check)"
      ],
      "metadata": {
        "colab": {
          "base_uri": "https://localhost:8080/"
        },
        "id": "EZFDxo7F0vE0",
        "outputId": "cdb7dedb-7f2e-4cb8-a1f6-904b90a30332"
      },
      "execution_count": 49,
      "outputs": [
        {
          "output_type": "stream",
          "name": "stderr",
          "text": [
            "/usr/local/lib/python3.11/dist-packages/sklearn/manifold/_t_sne.py:1164: FutureWarning: 'n_iter' was renamed to 'max_iter' in version 1.5 and will be removed in 1.7.\n",
            "  warnings.warn(\n"
          ]
        }
      ]
    },
    {
      "cell_type": "markdown",
      "source": [
        "Подготовим, скомпилируем и обучим модель"
      ],
      "metadata": {
        "id": "A-wzYmxM1OXM"
      }
    },
    {
      "cell_type": "code",
      "source": [
        "# Подготовить модель\n",
        "model = keras.Sequential([\n",
        "  keras.layers.Dense(len(Df.columns) - 1, activation=tf.nn.relu),\n",
        "  keras.layers.Dense(2, activation=tf.nn.softmax)\n",
        "])\n",
        "\n",
        "# Скомпилировать модель\n",
        "model.compile(optimizer=tf.keras.optimizers.Adam(),\n",
        "            loss='sparse_categorical_crossentropy',\n",
        "            metrics=['accuracy'])\n",
        "\n",
        "# Обучить модель\n",
        "model.fit(Df.drop(\"dep_delayed_15min_cat\", axis=1), Df[\"dep_delayed_15min_cat\"], epochs=10)"
      ],
      "metadata": {
        "colab": {
          "base_uri": "https://localhost:8080/"
        },
        "id": "qiB2Lrz00zgc",
        "outputId": "01d00939-4282-4f14-f42b-1fe8ad613c61"
      },
      "execution_count": 50,
      "outputs": [
        {
          "output_type": "stream",
          "name": "stdout",
          "text": [
            "Epoch 1/10\n",
            "\u001b[1m782/782\u001b[0m \u001b[32m━━━━━━━━━━━━━━━━━━━━\u001b[0m\u001b[37m\u001b[0m \u001b[1m2s\u001b[0m 2ms/step - accuracy: 0.6854 - loss: 1.9113\n",
            "Epoch 2/10\n",
            "\u001b[1m782/782\u001b[0m \u001b[32m━━━━━━━━━━━━━━━━━━━━\u001b[0m\u001b[37m\u001b[0m \u001b[1m1s\u001b[0m 2ms/step - accuracy: 0.7835 - loss: 0.5751\n",
            "Epoch 3/10\n",
            "\u001b[1m782/782\u001b[0m \u001b[32m━━━━━━━━━━━━━━━━━━━━\u001b[0m\u001b[37m\u001b[0m \u001b[1m3s\u001b[0m 2ms/step - accuracy: 0.8069 - loss: 0.5212\n",
            "Epoch 4/10\n",
            "\u001b[1m782/782\u001b[0m \u001b[32m━━━━━━━━━━━━━━━━━━━━\u001b[0m\u001b[37m\u001b[0m \u001b[1m3s\u001b[0m 2ms/step - accuracy: 0.8058 - loss: 0.5148\n",
            "Epoch 5/10\n",
            "\u001b[1m782/782\u001b[0m \u001b[32m━━━━━━━━━━━━━━━━━━━━\u001b[0m\u001b[37m\u001b[0m \u001b[1m3s\u001b[0m 3ms/step - accuracy: 0.8071 - loss: 0.5097\n",
            "Epoch 6/10\n",
            "\u001b[1m782/782\u001b[0m \u001b[32m━━━━━━━━━━━━━━━━━━━━\u001b[0m\u001b[37m\u001b[0m \u001b[1m2s\u001b[0m 2ms/step - accuracy: 0.8069 - loss: 0.5081\n",
            "Epoch 7/10\n",
            "\u001b[1m782/782\u001b[0m \u001b[32m━━━━━━━━━━━━━━━━━━━━\u001b[0m\u001b[37m\u001b[0m \u001b[1m3s\u001b[0m 2ms/step - accuracy: 0.8056 - loss: 0.5108\n",
            "Epoch 8/10\n",
            "\u001b[1m782/782\u001b[0m \u001b[32m━━━━━━━━━━━━━━━━━━━━\u001b[0m\u001b[37m\u001b[0m \u001b[1m3s\u001b[0m 2ms/step - accuracy: 0.8053 - loss: 0.5084\n",
            "Epoch 9/10\n",
            "\u001b[1m782/782\u001b[0m \u001b[32m━━━━━━━━━━━━━━━━━━━━\u001b[0m\u001b[37m\u001b[0m \u001b[1m2s\u001b[0m 2ms/step - accuracy: 0.8039 - loss: 0.5119\n",
            "Epoch 10/10\n",
            "\u001b[1m782/782\u001b[0m \u001b[32m━━━━━━━━━━━━━━━━━━━━\u001b[0m\u001b[37m\u001b[0m \u001b[1m3s\u001b[0m 3ms/step - accuracy: 0.8057 - loss: 0.5054\n"
          ]
        },
        {
          "output_type": "execute_result",
          "data": {
            "text/plain": [
              "<keras.src.callbacks.history.History at 0x7a63417a3090>"
            ]
          },
          "metadata": {},
          "execution_count": 50
        }
      ]
    },
    {
      "cell_type": "markdown",
      "source": [
        "Попытаемся получить точность на основе проверочной последовательности объектов"
      ],
      "metadata": {
        "id": "_-V4lEj81SkX"
      }
    },
    {
      "cell_type": "code",
      "source": [
        "# Оценка на проверочной выборке\n",
        "test_loss, test_acc = model.evaluate(Df_check.drop(\"dep_delayed_15min_cat\", axis=1),\n",
        "                                      Df_check[\"dep_delayed_15min_cat\"])\n",
        "print('Test accuracy:', test_acc)"
      ],
      "metadata": {
        "colab": {
          "base_uri": "https://localhost:8080/"
        },
        "id": "OE9XnRei02dJ",
        "outputId": "9c226a97-e6ba-4206-e33d-2ceea525d549"
      },
      "execution_count": 51,
      "outputs": [
        {
          "output_type": "stream",
          "name": "stdout",
          "text": [
            "\u001b[1m782/782\u001b[0m \u001b[32m━━━━━━━━━━━━━━━━━━━━\u001b[0m\u001b[37m\u001b[0m \u001b[1m1s\u001b[0m 2ms/step - accuracy: 0.8124 - loss: 0.5346\n",
            "Test accuracy: 0.8081600069999695\n"
          ]
        }
      ]
    },
    {
      "cell_type": "markdown",
      "source": [
        "Получаем предсказания"
      ],
      "metadata": {
        "id": "otDiCMLj1Zrp"
      }
    },
    {
      "cell_type": "code",
      "source": [
        "predictions = model.predict(np.array([row.drop(\"dep_delayed_15min_cat\").values for index, row in Df_check.iterrows()]))"
      ],
      "metadata": {
        "colab": {
          "base_uri": "https://localhost:8080/"
        },
        "id": "8n0cF5QA5d4g",
        "outputId": "e21dc77c-50a0-4296-ac01-954c46afc93c"
      },
      "execution_count": 52,
      "outputs": [
        {
          "output_type": "stream",
          "name": "stdout",
          "text": [
            "\u001b[1m782/782\u001b[0m \u001b[32m━━━━━━━━━━━━━━━━━━━━\u001b[0m\u001b[37m\u001b[0m \u001b[1m1s\u001b[0m 1ms/step\n"
          ]
        }
      ]
    },
    {
      "cell_type": "markdown",
      "source": [
        "Визуализировать данные"
      ],
      "metadata": {
        "id": "8Jy6ld3D5gKN"
      }
    },
    {
      "cell_type": "code",
      "source": [
        "predictions_frame = pd.DataFrame(predictions, columns=[\"pred_1\", \"pred_2\"])\n",
        "tsne_frame = pd.DataFrame(tsne_results, columns=[\"tsne_x\", \"tsne_y\"])\n",
        "Df_check_appended = pd.concat([Df_check, predictions_frame, tsne_frame], axis=1, join='inner')\n",
        "Df_check_a = Df_check_appended[Df_check_appended[\"pred_1\"] >= 0.5]\n",
        "Df_check_b = Df_check_appended[Df_check_appended[\"pred_1\"] < 0.5]\n",
        "plt.scatter(\n",
        "      x = Df_check_a[\"tsne_x\"],\n",
        "      y = Df_check_a[\"tsne_y\"],\n",
        "      c = \"red\",\n",
        "  )\n",
        "plt.scatter(\n",
        "      x = Df_check_b[\"tsne_x\"],\n",
        "      y = Df_check_b[\"tsne_y\"],\n",
        "      c = \"blue\",\n",
        "  )\n",
        "plt.show()"
      ],
      "metadata": {
        "colab": {
          "base_uri": "https://localhost:8080/",
          "height": 430
        },
        "id": "owiP-xt-05P7",
        "outputId": "11d3f89a-deda-4020-908c-cfc78b4f301f"
      },
      "execution_count": 62,
      "outputs": [
        {
          "output_type": "display_data",
          "data": {
            "text/plain": [
              "<Figure size 640x480 with 1 Axes>"
            ],
            "image/png": "[encoded data removed]"
          },
          "metadata": {}
        }
      ]
    },
    {
      "cell_type": "markdown",
      "metadata": {
        "id": "ZCWGSXJORd8P"
      },
      "source": [
        "Вывод: как и в прошлых работах, несмотря на неплохие показатели точности, полученная нейронная сеть довольно плохо предсказывает, будет ли задержан полёт. Так из набора в 25000 объектов было выделено всего 4 объекта другого класса. Можно утверждать, что невозможно сделать вывод о том, будет ли задержан полёт, по указанным свойствам. Необходимо расширить датасет, например было бы неплохо добавить в него погодные условия, возможно они будут иметь большее значение при задержках в полёте."
      ]
    }
  ],
  "metadata": {
    "colab": {
      "provenance": []
    },
    "kernelspec": {
      "display_name": "Python 3",
      "name": "python3"
    },
    "language_info": {
      "name": "python"
    }
  },
  "nbformat": 4,
  "nbformat_minor": 0
}