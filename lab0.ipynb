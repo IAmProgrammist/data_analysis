{
  "nbformat": 4,
  "nbformat_minor": 0,
  "metadata": {
    "colab": {
      "provenance": []
    },
    "kernelspec": {
      "name": "python3",
      "display_name": "Python 3"
    },
    "language_info": {
      "name": "python"
    }
  },
  "cells": [
    {
      "cell_type": "markdown",
      "source": [
        "Лабораторная работа 0\n",
        "\n",
        "Тема: Игра в имитацию"
      ],
      "metadata": {
        "id": "P6-paTQWsKQf"
      }
    },
    {
      "cell_type": "markdown",
      "source": [
        "Вариант 6\n",
        "\n",
        "Номер зачётки: 105223194"
      ],
      "metadata": {
        "id": "OLUzXvrjPgy6"
      }
    },
    {
      "cell_type": "markdown",
      "source": [
        "1) Дискретная случайная величина ξ принимает значения 0, 1, 2 и 3 с вероятностями соответствующими данным варианта. Используя генератор псевдослучайных чисел, получить 10000 чисел, имитирующих поведение ξ. Вывести значения частот появления значений 0, 1, 2 и 3. Проверить на уровне значимости 0,05 соответствие полученных данных распределению ξ, используя критерий сравнения долей. Вероятности: р0=i/2*(i+j+k), р1=(j+k)/2*(i+j+k), р2=(i+k)/2*(i+j+k), р3=j/2*(i+j+k). Значения i, j, k являются последними тремя цифрами зачетки. Если какая-то из этих трех цифр равна 0, то вместо 0 берется 10.\n",
        "\n",
        "$i = 1, j = 9, k = 4$\n",
        "\n",
        "$p_0 = \\frac{1}{28} = 0.0357$\n",
        "\n",
        "$p_1 = \\frac{13}{28} = 0.4643$\n",
        "\n",
        "$p_2 = \\frac{5}{28} = 0.1786$\n",
        "\n",
        "$p_3 = \\frac{9}{28} = 0.3214$\n"
      ],
      "metadata": {
        "id": "MGSUj2xKdr1a"
      }
    },
    {
      "cell_type": "code",
      "source": [
        "import random\n",
        "import scipy\n",
        "\n",
        "SELECTION_AMOUNT = 280000\n",
        "I = 1\n",
        "J = 9\n",
        "K = 4\n",
        "G = 6  # Для s = 4, r = 1\n",
        "\n",
        "def get_modified_p(i, j, k):\n",
        "  p_sum = 2 * (i + j + k)\n",
        "  p0 = i / p_sum\n",
        "  p1 = (j + k) / p_sum\n",
        "  p2 = (i + k) / p_sum\n",
        "  p3 = j / p_sum\n",
        "\n",
        "  return (p0, p1, p2, p3)\n",
        "\n",
        "def modified_random(i, j, k):\n",
        "  p0, p1, p2, p3 = get_modified_p(i, j, k)\n",
        "\n",
        "  rand_val = random.random()\n",
        "\n",
        "  if rand_val < p0:\n",
        "    return 0\n",
        "  elif rand_val < p0 + p1:\n",
        "    return 1\n",
        "  elif rand_val < p0 + p1 + p2:\n",
        "    return 2\n",
        "\n",
        "  return 3\n",
        "\n",
        "\n",
        "p0, p1, p2, p3 = get_modified_p(I, J, K)\n",
        "emps = [0] * 4\n",
        "exps = [SELECTION_AMOUNT * p0,\n",
        "        SELECTION_AMOUNT * p1,\n",
        "        SELECTION_AMOUNT * p2,\n",
        "        SELECTION_AMOUNT * p3]\n",
        "\n",
        "for random_variable in (modified_random(I, J, K) for _ in range(0, SELECTION_AMOUNT)):\n",
        "  emps[random_variable] += 1\n",
        "\n",
        "K, p = scipy.stats.chisquare(f_obs=emps, f_exp=exps)\n",
        "\n",
        "print(\"K =\", K, \"p =\", p)\n",
        "\n",
        "if K > G:\n",
        "  print(f\"Гипотеза отвергается, K > G ({K} > {G})\")\n",
        "else:\n",
        "  print(f\"Гипотеза подтвердилась, K < G ({K} < {G})\")"
      ],
      "metadata": {
        "colab": {
          "base_uri": "https://localhost:8080/"
        },
        "id": "oMnZZWJyet7W",
        "outputId": "8259b5ec-711e-49c2-ada6-300ec996f41f"
      },
      "execution_count": 210,
      "outputs": [
        {
          "output_type": "stream",
          "name": "stdout",
          "text": [
            "K = 1.3521507692307693 p = 0.7167881634086022\n",
            "Гипотеза подтвердилась, K < G (1.3521507692307693 < 6)\n"
          ]
        }
      ]
    },
    {
      "cell_type": "markdown",
      "source": [
        "2. Непрерывная случайная величина ξ распределена по экспоненциальному закону с параметром λ соответствующим данным варианта. Построив генератор псевдослучайных чисел, получить 10000 чисел, имитирующих поведение ξ. Разбить выборку на интервалы и построить гистограмму частот. Вывести средние арифметическое значений выборки и проверить  на уровне значимости 0,05 соответствие полученных данных показательному распределению с параметром λ. Здесь λ определяется номер по списку разделить на 4.\n",
        "\n",
        "$\\lambda = 1.5$\n",
        "\n",
        "F: $y = 1- e ^ {-λx}$\n",
        "\n",
        "$ln(1 - y) = ln(e ^ {-λx})$\n",
        "\n",
        "$x = \\frac{ln(1 - y)}{-λ}$\n",
        "\n",
        "Математическое ожидание при таком распределении\n",
        "должно быть\n",
        "$M = \\frac{1}{λ} = \\frac{2}{3}$\n",
        "\n",
        "$σ = \\frac{1}{λ} = \\frac{2}{3}$"
      ],
      "metadata": {
        "id": "Xifd_CcrrQ-_"
      }
    },
    {
      "cell_type": "code",
      "source": [
        "from re import M\n",
        "import random\n",
        "import scipy\n",
        "import math\n",
        "import matplotlib.pyplot as plt\n",
        "\n",
        "GROUPS_AMOUNT = 25\n",
        "SELECTION_AMOUNT = 10000\n",
        "lambd = 1.5\n",
        "G = 33.9\n",
        "\n",
        "M_actual = 1 / lambd\n",
        "Sigma_actual = 1 / lambd\n",
        "\n",
        "def lambda_random():\n",
        "  return math.log(1 - random.random()) / -lambd\n",
        "\n",
        "def F(x):\n",
        "  if x > 0:\n",
        "    return 1 - math.exp(-lambd * x)\n",
        "  return 0\n",
        "\n",
        "vals = [lambda_random() for _ in range(0, SELECTION_AMOUNT)]\n",
        "vals.sort(reverse=True)\n",
        "\n",
        "mid = sum(vals) / len(vals)\n",
        "\n",
        "print(\"Среднее арифметическое M =\", mid)\n",
        "\n",
        "val_max = vals[0]\n",
        "val_min = 0\n",
        "\n",
        "# Разделяем на группы и ведём подсчёт частот\n",
        "emps = [0] * GROUPS_AMOUNT\n",
        "exps = [0] * GROUPS_AMOUNT\n",
        "emps_new = []\n",
        "exps_new = []\n",
        "\n",
        "for val in vals:\n",
        "  freq_index = int(val * (GROUPS_AMOUNT / val_max))\n",
        "  if freq_index < GROUPS_AMOUNT:\n",
        "    emps[freq_index] += 1\n",
        "\n",
        "for i in range(0, GROUPS_AMOUNT):\n",
        "  lower = i * (val_max / GROUPS_AMOUNT)\n",
        "  upper = (i + 1) * (val_max / GROUPS_AMOUNT)\n",
        "\n",
        "  probability = F(upper) - F(lower)\n",
        "\n",
        "  exps[i] = int(probability * SELECTION_AMOUNT)\n",
        "\n",
        "  if (exps[i] != 0):\n",
        "    emps_new.append(emps[i])\n",
        "    exps_new.append(exps[i])\n",
        "\n",
        "exps_new[0] += sum(emps_new) - sum(exps_new)\n",
        "\n",
        "K, p = scipy.stats.chisquare(f_obs=emps_new, f_exp=exps_new, ddof=2)\n",
        "\n",
        "print(\"K =\", K, \"p =\", p)\n",
        "\n",
        "if K > G:\n",
        "  print(f\"Гипотеза отвергается, K > G ({K} > {G})\")\n",
        "else:\n",
        "  print(f\"Гипотеза подтвердилась, K < G ({K} < {G})\")\n",
        "\n",
        "plt.hist(vals, color = 'blue', edgecolor = 'black',\n",
        "         bins = int(GROUPS_AMOUNT))\n",
        "plt.show()"
      ],
      "metadata": {
        "colab": {
          "base_uri": "https://localhost:8080/",
          "height": 482
        },
        "id": "PIdUJVfav_OF",
        "outputId": "3071f71d-573b-4296-b73d-bd1f91bc0282"
      },
      "execution_count": 213,
      "outputs": [
        {
          "output_type": "stream",
          "name": "stdout",
          "text": [
            "Среднее арифметическое M = 0.6679205083607518\n",
            "K = 27.0008577377437 p = 0.13523986486332837\n",
            "Гипотеза подтвердилась, K < G (27.0008577377437 < 33.9)\n"
          ]
        },
        {
          "output_type": "display_data",
          "data": {
            "text/plain": [
              "<Figure size 640x480 with 1 Axes>"
            ],
            "image/png": "[encoded data removed]"
          },
          "metadata": {}
        }
      ]
    }
  ]
}